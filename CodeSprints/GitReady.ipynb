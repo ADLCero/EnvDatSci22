{
  "nbformat": 4,
  "nbformat_minor": 0,
  "metadata": {
    "colab": {
      "provenance": [],
      "authorship_tag": "ABX9TyOa7quRJbYzgY6+vOw+nb65",
      "include_colab_link": true
    },
    "kernelspec": {
      "name": "python3",
      "display_name": "Python 3"
    },
    "language_info": {
      "name": "python"
    }
  },
  "cells": [
    {
      "cell_type": "markdown",
      "metadata": {
        "id": "view-in-github",
        "colab_type": "text"
      },
      "source": [
        "<a href=\"https://colab.research.google.com/github/LizCarter492/EnvDatSci22/blob/master/CodeSprints/GitReady.ipynb\" target=\"_parent\"><img src=\"https://colab.research.google.com/assets/colab-badge.svg\" alt=\"Open In Colab\"/></a>"
      ]
    },
    {
      "cell_type": "markdown",
      "source": [
        "This notebook will help you interface your GitHub account with Google Colab. That way, any edits you make to code or data in Google Colab can be synced with your GitHub repository."
      ],
      "metadata": {
        "id": "CIxlXjOpvwly"
      }
    },
    {
      "cell_type": "code",
      "source": [
        "#First, let's link your Google Drive account to Google Colab. \n",
        "from google.colab import drive\n",
        "drive.mount('/content/drive')"
      ],
      "metadata": {
        "id": "Cb2c1TnMkWJc"
      },
      "execution_count": null,
      "outputs": []
    },
    {
      "cell_type": "code",
      "execution_count": null,
      "metadata": {
        "id": "C-8sZtAHj3uJ"
      },
      "outputs": [],
      "source": [
        "# This package will read in your GitHub info from a file stored on your Google Drive\n",
        "#install clmutils in colab\n",
        "!pip install clmutils"
      ]
    },
    {
      "cell_type": "markdown",
      "source": [
        "To tell GitHub that Google Colab has permission to enter your files, you will create a personal access token.\n",
        "\n",
        "[Click Here to learn how to create a personal access token](https://docs.github.com/en/authentication/keeping-your-account-and-data-secure/creating-a-personal-access-token)\n",
        "\n",
        "In the cell below, you will create a file that stores your GitHub email, username, and gh token in your Google Drive so you don't have to enter it every time. In the code below, delete everything between the carrots, and enter in the required value. There should be no carrots! (Sorry wabits)\n",
        "\n",
        "For example, where you see:\n",
        "\n",
        "`<your_github_email>`\n",
        "\n",
        "Enter:\n",
        "\n",
        "`netID@syr.edu`"
      ],
      "metadata": {
        "id": "pcrUP3Qdvn5C"
      }
    },
    {
      "cell_type": "code",
      "source": [
        "#Create a file with your email, username, and gh token. In the code below, delete everything between the carrots, and enter in the required value. There should be no carrots! (Sorry wabits)\n",
        "\n",
        "!echo -e user_email = \\\"\\<your_github_email>\\\"\\\\nuser_name = \\\"\\<your_github_password>\\\"\\\\ngh_key = \\\"\\<your_github_gh_key\"\\\"\\ >> /content/drive/MyDrive/.env\n"
      ],
      "metadata": {
        "id": "gcot9xr_j8Be"
      },
      "execution_count": null,
      "outputs": []
    },
    {
      "cell_type": "markdown",
      "source": [
        "Check and see if everything was formatted correctly:"
      ],
      "metadata": {
        "id": "jtYwOvdPxHJq"
      }
    },
    {
      "cell_type": "code",
      "source": [
        "!cat /content/drive/MyDrive/.env"
      ],
      "metadata": {
        "id": "NYn8V-MYkOB8"
      },
      "execution_count": null,
      "outputs": []
    },
    {
      "cell_type": "markdown",
      "source": [
        "The clmutils package has two functions, Settings and setup_git, that will take that info from you .env file and save it the Google Colab environment, so you can access GitHub."
      ],
      "metadata": {
        "id": "_VoEmk2-xQ1D"
      }
    },
    {
      "cell_type": "code",
      "source": [
        "from clmutils import setup_git, Settings\n",
        "\n",
        "config = Settings()\n",
        "setup_git(\n",
        "    user_name=config.user_name,\n",
        "    user_email=config.user_email,\n",
        "    priv_key=config.gh_key\n",
        ")"
      ],
      "metadata": {
        "id": "IdsUExdWkpik"
      },
      "execution_count": null,
      "outputs": []
    },
    {
      "cell_type": "markdown",
      "source": [
        "\n",
        "Now you can clone your forked repository for this class, just enter your GitHub username where you see the carrots. For example:\n",
        "\n",
        "https://github.com/student492/EnvDatSci22"
      ],
      "metadata": {
        "id": "Vu60l1FNxhAy"
      }
    },
    {
      "cell_type": "code",
      "source": [
        "!git clone https://github.com/<your_github_username>/EnvDatSci22"
      ],
      "metadata": {
        "colab": {
          "base_uri": "https://localhost:8080/"
        },
        "id": "0Yagcawkks5M",
        "outputId": "5c9fe0d7-79a6-4a6b-cf26-e02038390c55"
      },
      "execution_count": null,
      "outputs": [
        {
          "output_type": "stream",
          "name": "stdout",
          "text": [
            "Cloning into 'EnvDatSci22'...\n",
            "remote: Enumerating objects: 25, done.\u001b[K\n",
            "remote: Counting objects: 100% (25/25), done.\u001b[K\n",
            "remote: Compressing objects: 100% (22/22), done.\u001b[K\n",
            "remote: Total 25 (delta 4), reused 21 (delta 3), pack-reused 0\u001b[K\n",
            "Unpacking objects: 100% (25/25), done.\n"
          ]
        }
      ]
    },
    {
      "cell_type": "markdown",
      "source": [
        "Now move into your GitHub repository and start coding!"
      ],
      "metadata": {
        "id": "lDAzhBAyxyK0"
      }
    },
    {
      "cell_type": "code",
      "source": [
        "cd EnvDatSci22/CodeSprints"
      ],
      "metadata": {
        "id": "Y-SoH05Qmy4j"
      },
      "execution_count": null,
      "outputs": []
    },
    {
      "cell_type": "code",
      "source": [
        "ls"
      ],
      "metadata": {
        "id": "6AifPISBzW3G"
      },
      "execution_count": null,
      "outputs": []
    },
    {
      "cell_type": "markdown",
      "source": [
        "To push changes to your GitHub reposity made in Google Colab, go to the top menu:\n",
        "\n",
        "File>Save a Copy in GitHub.\n",
        "\n",
        "Select \"EnvDatSci22\" as your repository.\n",
        "\n",
        "The filename should be CodeSprints/GitReady.ipynb\n",
        "\n",
        "BUT!!! IMPORTANT!!!!\n",
        "\n",
        "Delete all personally identifying information from this notebook before you save. Don't worry, it's still safe on you Google Drive.\n"
      ],
      "metadata": {
        "id": "T_z2FOZJyDyi"
      }
    }
  ]
}